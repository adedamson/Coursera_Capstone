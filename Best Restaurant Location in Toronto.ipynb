{
    "cells": [
        {
            "cell_type": "markdown",
            "metadata": {
                "collapsed": true
            },
            "source": "# Discovering the Best Location for a New Restaurant in Toronto Neighborhoods\n### By Adedamola Adedokun"
        },
        {
            "cell_type": "markdown",
            "metadata": {},
            "source": "## 1. INTRODUCTION\n### 1.1 BACKGROUND"
        },
        {
            "cell_type": "markdown",
            "metadata": {},
            "source": "\nToronto is the most populous city in Canada, with a population of over 2 million people. The city is located on the shores of the western end of Lake Ontario. Being the largest city in the country, the city accounts for a significant portion of Canada's economic activity and more than 20% of Canada's population. Toronto is an international centre of business, finance, arts, and culture. It is considered on of the most diverse citites in the world with a large population of immigrants from around the globe. This has also made Toronto one of the most multicultural and cosmopolitan cities in the world. \n\nThe diverse population of Toronto reflects its current and historical role as a choice immigration destination. More than 50 percent of residents belong to a visible minority population group, and over 200 distinct ethnic origins are represented among its inhabitants. While the majority of Torontonians speak English as their primary language, over 160 languages are spoken in the city. Being a large city with a diverse population, information on hot spot / best locations would contribute greatly to the success of a new restaurant business in the city."
        },
        {
            "cell_type": "markdown",
            "metadata": {},
            "source": "### PROBLEM"
        },
        {
            "cell_type": "markdown",
            "metadata": {},
            "source": "This project aims to discover / explore the best location for a new restaurant business based on the geographical data of Toronto neighborhoods."
        },
        {
            "cell_type": "markdown",
            "metadata": {},
            "source": "### INTEREST"
        },
        {
            "cell_type": "markdown",
            "metadata": {},
            "source": "Location is considered one of the key factors contributing to the success of a restaurant. Entrepreneurs and business owners will be interested in this project because it will guide their decision in selecting the best neigborhood location for the establishment a new restaurant business. This can be shown on a map and information chart where each neighborhood district is clustered according to the venue density."
        },
        {
            "cell_type": "markdown",
            "metadata": {},
            "source": "## 2. Data Acquisition and Cleaning"
        },
        {
            "cell_type": "markdown",
            "metadata": {},
            "source": "To consider the problem:\n\nData was scraped from the wikipedia webpage which includes the list of postal codes within the city of Toronto. Geospatial cordinates was also gotten via Google. \n\nForsquare API was used to get the most common venues of given Boroughs of Toronto.\n\nData was cleaned and transformed. Only records with an assigned Boroughs were used while those without an assigned Boroughs were excluded. Data scraped / downloaded were combined into one table."
        },
        {
            "cell_type": "code",
            "execution_count": null,
            "metadata": {},
            "outputs": [],
            "source": ""
        }
    ],
    "metadata": {
        "kernelspec": {
            "display_name": "Python 3.6",
            "language": "python",
            "name": "python3"
        },
        "language_info": {
            "codemirror_mode": {
                "name": "ipython",
                "version": 3
            },
            "file_extension": ".py",
            "mimetype": "text/x-python",
            "name": "python",
            "nbconvert_exporter": "python",
            "pygments_lexer": "ipython3",
            "version": "3.6.9"
        }
    },
    "nbformat": 4,
    "nbformat_minor": 1
}